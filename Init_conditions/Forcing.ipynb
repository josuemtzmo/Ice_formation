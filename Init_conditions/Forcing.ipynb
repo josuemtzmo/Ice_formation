{
 "cells": [
  {
   "cell_type": "code",
   "execution_count": 1,
   "id": "a452767e",
   "metadata": {},
   "outputs": [],
   "source": [
    "import xarray as xr\n",
    "import numpy as np\n",
    "import matplotlib.pyplot as plt\n",
    "%matplotlib inline\n",
    "import gsw"
   ]
  },
  {
   "cell_type": "code",
   "execution_count": 2,
   "id": "4ef62faa",
   "metadata": {},
   "outputs": [],
   "source": [
    "from utils import *"
   ]
  },
  {
   "cell_type": "code",
   "execution_count": 3,
   "id": "c70fa60e",
   "metadata": {},
   "outputs": [],
   "source": [
    "output_path=\"/home1/datahome/jmartine/models/nemo/tests/MY_ICE_CANAL/EXP00/forcing/\""
   ]
  },
  {
   "cell_type": "code",
   "execution_count": 4,
   "id": "d8680a9e",
   "metadata": {},
   "outputs": [],
   "source": [
    "ngrid_x = 501\n",
    "ngrid_y = 253\n",
    "ngrid_z = 101"
   ]
  },
  {
   "cell_type": "code",
   "execution_count": 5,
   "id": "df5bef58",
   "metadata": {},
   "outputs": [],
   "source": [
    "δx=2\n",
    "δy=2\n",
    "δz=1\n",
    "max_depth=800\n",
    "x=np.linspace(0,ngrid_x*δx,ngrid_x)\n",
    "y=np.linspace(0,ngrid_y*δy,ngrid_y)\n",
    "\n",
    "depth,_ = compute_depth_prof(ngrid_z,max_depth)"
   ]
  },
  {
   "cell_type": "code",
   "execution_count": 6,
   "id": "7fe4c650",
   "metadata": {},
   "outputs": [],
   "source": [
    "Ys,Zs = np.meshgrid(y,depth) "
   ]
  },
  {
   "cell_type": "code",
   "execution_count": 7,
   "id": "99667981",
   "metadata": {},
   "outputs": [],
   "source": [
    "from utils import *\n",
    "y_0 = (δy*ngrid_y)/2\n",
    "w  = 100/2.5\n",
    "ice_profile=smooth_tanh(y,w=w,x_0=y_0)"
   ]
  },
  {
   "cell_type": "code",
   "execution_count": 8,
   "id": "d6bf6eef",
   "metadata": {},
   "outputs": [],
   "source": [
    "t = 365"
   ]
  },
  {
   "cell_type": "code",
   "execution_count": 9,
   "id": "56d71dfd",
   "metadata": {},
   "outputs": [],
   "source": [
    "β = -(1/2)\n",
    "γ =  np.linspace(-np.pi,np.pi,t)\n",
    "season = 1/2 + np.cos(β +γ)/2"
   ]
  },
  {
   "cell_type": "code",
   "execution_count": 10,
   "id": "8527ff5d",
   "metadata": {},
   "outputs": [],
   "source": [
    "start = -100\n",
    "end   = 600"
   ]
  },
  {
   "cell_type": "code",
   "execution_count": 11,
   "id": "b9df51ea",
   "metadata": {},
   "outputs": [],
   "source": [
    "L = start+(end-start)*season"
   ]
  },
  {
   "cell_type": "code",
   "execution_count": 12,
   "id": "c606d72e",
   "metadata": {},
   "outputs": [],
   "source": [
    "Lf = 100\n",
    "\n",
    "H1=75\n",
    "dh=75"
   ]
  },
  {
   "cell_type": "code",
   "execution_count": 13,
   "id": "de29ec81",
   "metadata": {},
   "outputs": [],
   "source": [
    "horizontal_depend_tanh = (smooth_tanh(Ys,Lf,L)) * smooth_tanh(-Zs,dh,-H1)"
   ]
  },
  {
   "cell_type": "code",
   "execution_count": 14,
   "id": "3e2cf48a",
   "metadata": {},
   "outputs": [
    {
     "data": {
      "text/plain": [
       "(365, 101, 253)"
      ]
     },
     "execution_count": 14,
     "metadata": {},
     "output_type": "execute_result"
    }
   ],
   "source": [
    "horizontal_depend_tanh.shape"
   ]
  },
  {
   "cell_type": "code",
   "execution_count": 15,
   "id": "76ef46f2",
   "metadata": {},
   "outputs": [],
   "source": [
    "salt   = - 3/2 * horizontal_depend_tanh[0]\n",
    "salt_0 = 35\n",
    "ft_s= gsw.t_freezing(salt_0+salt,0,0)\n"
   ]
  },
  {
   "cell_type": "code",
   "execution_count": 16,
   "id": "d8482f48",
   "metadata": {},
   "outputs": [],
   "source": [
    "temp_atm=xr.open_dataset(\"./temp2m_climatology_daily.nc\")\n",
    "\n",
    "min_temp = temp_atm.t2m.min().values-273.15\n",
    "max_temp = temp_atm.t2m.max().values-273.15"
   ]
  },
  {
   "cell_type": "code",
   "execution_count": 18,
   "id": "a93b9aac",
   "metadata": {},
   "outputs": [],
   "source": [
    "temp = horizontal_depend_tanh[:,0,:] * (min_temp-max_temp) + max_temp"
   ]
  },
  {
   "cell_type": "code",
   "execution_count": 24,
   "id": "cc9aa37f",
   "metadata": {},
   "outputs": [],
   "source": [
    "radiation=xr.open_dataset(\"./SWR_and_LWR_climatology_daily.nc\")\n",
    "\n",
    "LWR=radiation.msdwlwrf.isel(dayofyear=slice(0,365)).values\n",
    "SWR=radiation.msdwswrf.isel(dayofyear=slice(0,365)).values\n",
    "TEMP = temp_atm.t2m.isel(dayofyear=slice(0,365)).values"
   ]
  },
  {
   "cell_type": "code",
   "execution_count": 27,
   "id": "7bdbb4bd",
   "metadata": {},
   "outputs": [],
   "source": [
    "# Zonal wind [m/s]\n",
    "ds_u10=np.zeros((t,ngrid_y,ngrid_x))\n",
    "\n",
    "# Meridional wind [m/s]\n",
    "ds_v10=np.zeros((t,ngrid_y,ngrid_x))\n",
    "\n",
    "# Shortwave radiation [W/m2]\n",
    "# ds_rsw=np.ones((1,103,201))*10.\n",
    "ds_rsw=np.ones((t,ngrid_y,ngrid_x)) * SWR[:,None,None]\n",
    "\n",
    "# Longwave radiation [W/m2]\n",
    "# ds_rlw=np.ones((1,103,201))*170.\n",
    "ds_rlw=np.ones((t,ngrid_y,ngrid_x))*LWR[:,None,None]\n",
    "\n",
    "# Air temperature [K]\n",
    "ds_t10=np.ones((t,ngrid_y,ngrid_x))*TEMP[:,None,None]\n",
    "# ds_t10=np.ones((t,ngrid_y,ngrid_x))*#273.15 + temp[:,:,None]\n",
    "\n",
    "# Air humidity [-]\n",
    "ds_q10=np.ones((t,ngrid_y,ngrid_x))*0.00130145\n",
    "\n",
    "# precipitation [kg/m2/s]\n",
    "ds_pre=np.zeros((t,ngrid_y,ngrid_x))\n",
    "\n",
    "# Snow [kg/m2/s]\n",
    "ds_sno=np.zeros((t,ngrid_y,ngrid_x))\n",
    "\n",
    "# Sea level pressure [Pa]\n",
    "ds_slp=np.ones((t,ngrid_y,ngrid_x))*100000."
   ]
  },
  {
   "cell_type": "code",
   "execution_count": 28,
   "id": "fe657f6b",
   "metadata": {},
   "outputs": [],
   "source": [
    "ds_for=xr.Dataset()\n",
    "\n",
    "ds_for['u10']=(('time','y','x'),ds_u10)\n",
    "ds_for['v10']=(('time','y','x'),ds_v10)\n",
    "ds_for['rsw']=(('time','y','x'),ds_rsw)\n",
    "ds_for['rlw']=(('time','y','x'),ds_rlw)\n",
    "ds_for['t10']=(('time','y','x'),ds_t10)\n",
    "ds_for['q10']=(('time','y','x'),ds_q10)\n",
    "ds_for['pre']=(('time','y','x'),ds_pre)\n",
    "ds_for['sno']=(('time','y','x'),ds_sno)\n",
    "ds_for['slp']=(('time','y','x'),ds_slp)"
   ]
  },
  {
   "cell_type": "code",
   "execution_count": 32,
   "id": "8bd033d8",
   "metadata": {},
   "outputs": [],
   "source": [
    "ds_for.to_netcdf(output_path+'Channel-Surf-Forcing_new_ALL_seasonal_new_grid_HR_HTR_out_boundaries_april_center_no_atm_temp_moving.nc',unlimited_dims={'time':True})"
   ]
  }
 ],
 "metadata": {
  "kernelspec": {
   "display_name": "PyOcean3.9",
   "language": "python",
   "name": "pyocean3.9"
  },
  "language_info": {
   "codemirror_mode": {
    "name": "ipython",
    "version": 3
   },
   "file_extension": ".py",
   "mimetype": "text/x-python",
   "name": "python",
   "nbconvert_exporter": "python",
   "pygments_lexer": "ipython3",
   "version": "3.9.7"
  }
 },
 "nbformat": 4,
 "nbformat_minor": 5
}
