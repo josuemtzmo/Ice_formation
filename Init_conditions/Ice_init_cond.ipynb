{
 "cells": [
  {
   "cell_type": "markdown",
   "metadata": {},
   "source": [
    "## Import libraries"
   ]
  },
  {
   "cell_type": "code",
   "execution_count": 1,
   "metadata": {},
   "outputs": [],
   "source": [
    "import xarray as xr\n",
    "import numpy as np\n",
    "import matplotlib.pylab as plt\n",
    "%matplotlib inline"
   ]
  },
  {
   "cell_type": "markdown",
   "metadata": {},
   "source": [
    "Define output folder to store data"
   ]
  },
  {
   "cell_type": "code",
   "execution_count": 2,
   "metadata": {},
   "outputs": [],
   "source": [
    "output_path=\"/home1/datahome/jmartine/models/nemo/tests/MY_ICE_CANAL/EXP00/init/\"\n",
    "# output_path=\"/home/jmartine/github/CANAL_nemo/EXP00/init/\""
   ]
  },
  {
   "cell_type": "markdown",
   "metadata": {},
   "source": [
    "### Grid"
   ]
  },
  {
   "cell_type": "markdown",
   "metadata": {},
   "source": [
    "Number of gridpoints; note that the additional x gridpoint is used as a boundary, while the 3 extra y gridpoints are for boundaries and to make sure the center of the domain falls on top of a tracer gridpoint."
   ]
  },
  {
   "cell_type": "code",
   "execution_count": 3,
   "metadata": {},
   "outputs": [],
   "source": [
    "ngrid_x = 501\n",
    "ngrid_y = 253"
   ]
  },
  {
   "cell_type": "markdown",
   "metadata": {},
   "source": [
    "Grids $\\delta x$ and $\\delta y$"
   ]
  },
  {
   "cell_type": "code",
   "execution_count": 4,
   "metadata": {},
   "outputs": [],
   "source": [
    "δx=2\n",
    "δy=2"
   ]
  },
  {
   "cell_type": "code",
   "execution_count": 5,
   "metadata": {},
   "outputs": [],
   "source": [
    "x=np.linspace(0,ngrid_x*δx,ngrid_x)\n",
    "y=np.linspace(0,ngrid_y*δy,ngrid_y)"
   ]
  },
  {
   "cell_type": "code",
   "execution_count": 13,
   "metadata": {},
   "outputs": [],
   "source": [
    "grid_ones = np.ones((1,ngrid_y,ngrid_x))"
   ]
  },
  {
   "cell_type": "code",
   "execution_count": 14,
   "metadata": {},
   "outputs": [],
   "source": [
    "noise_2_add = np.zeros(grid_ones.shape)\n",
    "scale=0.2"
   ]
  },
  {
   "cell_type": "code",
   "execution_count": 19,
   "metadata": {},
   "outputs": [],
   "source": [
    "# Sea ice thickness [m]\n",
    "grid_ones = np.ones((1,ngrid_y,ngrid_x))\n",
    "ds_hti = 2 * grid_ones  \n",
    "\n",
    "# Snow thickness [m]\n",
    "ds_hts = grid_ones * 0\n",
    "\n",
    "# Sea ice fraction [-]\n",
    "ds_ati = 0.5 * grid_ones \n",
    "\n",
    "# Sea ice salinity\n",
    "ds_smi = grid_ones * (6.3 )\n",
    "\n",
    "# Sea ice internal temperature (-5°C)\n",
    "ds_tmi = grid_ones * (273.15 - ( 5 ))\n",
    "\n",
    "# Sea ice surface temperature [-3°C]\n",
    "ds_tsu = grid_ones * (273.15 - ( 3 ))"
   ]
  },
  {
   "cell_type": "code",
   "execution_count": 20,
   "metadata": {},
   "outputs": [],
   "source": [
    "ds_ice=xr.Dataset(coords=dict(x=([\"x\"], x),y=([\"y\"], y)))\n",
    "\n",
    "ds_ice['hti']=(('time','y','x'),ds_hti)\n",
    "ds_ice['hts']=(('time','y','x'),ds_hts)\n",
    "ds_ice['ati']=(('time','y','x'),ds_ati)\n",
    "ds_ice['smi']=(('time','y','x'),ds_smi)\n",
    "ds_ice['tmi']=(('time','y','x'),ds_tmi)\n",
    "ds_ice['tsu']=(('time','y','x'),ds_tsu)"
   ]
  },
  {
   "cell_type": "code",
   "execution_count": 21,
   "metadata": {},
   "outputs": [
    {
     "data": {
      "text/plain": [
       "[<matplotlib.lines.Line2D at 0x2aab1dbfda90>]"
      ]
     },
     "execution_count": 21,
     "metadata": {},
     "output_type": "execute_result"
    },
    {
     "data": {
      "image/png": "[encoded data removed]",
      "text/plain": [
       "<Figure size 1080x504 with 3 Axes>"
      ]
     },
     "metadata": {
      "needs_background": "light"
     },
     "output_type": "display_data"
    }
   ],
   "source": [
    "f, (ax1, ax2,ax3) = plt.subplots(1, 3, figsize=(15,7))\n",
    "\n",
    "ds_ice.hti.isel({'x':0,'time':0}).plot(ax=ax1)\n",
    "ds_ice.ati.isel({'x':0,'time':0}).plot(ax=ax2)\n",
    "ds_ice.tsu.isel({'x':0,'time':0}).plot(ax=ax3)"
   ]
  },
  {
   "cell_type": "code",
   "execution_count": 22,
   "metadata": {},
   "outputs": [],
   "source": [
    "ds_ice.to_netcdf(output_path+'Channel_Ice_init_smooth_tanh_new_grid_HR_IC_05_may_init_max_ice.nc',unlimited_dims={'time':True})"
   ]
  }
 ],
 "metadata": {
  "kernelspec": {
   "display_name": "jupyter-lab",
   "language": "python",
   "name": "jupyter-lab"
  },
  "language_info": {
   "codemirror_mode": {
    "name": "ipython",
    "version": 3
   },
   "file_extension": ".py",
   "mimetype": "text/x-python",
   "name": "python",
   "nbconvert_exporter": "python",
   "pygments_lexer": "ipython3",
   "version": "3.10.12"
  }
 },
 "nbformat": 4,
 "nbformat_minor": 4
}
