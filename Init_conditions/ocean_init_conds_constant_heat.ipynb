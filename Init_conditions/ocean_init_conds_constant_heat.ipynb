{
 "cells": [
  {
   "cell_type": "code",
   "execution_count": 1,
   "metadata": {},
   "outputs": [],
   "source": [
    "import numpy as np\n",
    "import xarray as xr\n",
    "import matplotlib.pylab as plt\n",
    "import cmocean as cm\n",
    "%matplotlib inline\n",
    "import gsw\n",
    "import seawater as sw"
   ]
  },
  {
   "cell_type": "code",
   "execution_count": 2,
   "metadata": {},
   "outputs": [],
   "source": [
    "output_path=\"/home1/datahome/jmartine/models/nemo/tests/MY_ICE_CANAL/EXP00/init/\"\n",
    "# output_path=\"/home/jmartine/github/CANAL_nemo/EXP00/init/\""
   ]
  },
  {
   "cell_type": "code",
   "execution_count": 3,
   "metadata": {},
   "outputs": [],
   "source": [
    "ngrid_x = 501\n",
    "ngrid_y = 253\n",
    "ngrid_z = 101"
   ]
  },
  {
   "cell_type": "code",
   "execution_count": 4,
   "metadata": {},
   "outputs": [],
   "source": [
    "δx=2\n",
    "δy=2\n",
    "δz=1\n",
    "max_depth=800"
   ]
  },
  {
   "cell_type": "code",
   "execution_count": 5,
   "metadata": {},
   "outputs": [],
   "source": [
    "x=np.linspace(0,ngrid_x*δx,ngrid_x)\n",
    "y=np.linspace(0,ngrid_y*δy,ngrid_y)"
   ]
  },
  {
   "cell_type": "code",
   "execution_count": 6,
   "metadata": {},
   "outputs": [],
   "source": [
    "from utils import *"
   ]
  },
  {
   "cell_type": "code",
   "execution_count": 7,
   "metadata": {},
   "outputs": [],
   "source": [
    "depth,_ = compute_depth_prof(ngrid_z,max_depth)"
   ]
  },
  {
   "cell_type": "code",
   "execution_count": 8,
   "metadata": {},
   "outputs": [],
   "source": [
    "Ys,Zs = np.meshgrid(y,depth) "
   ]
  },
  {
   "cell_type": "code",
   "execution_count": 9,
   "metadata": {},
   "outputs": [],
   "source": [
    "# Width of gradient horizontally\n",
    "w  = 100/2.5\n",
    "Lf = w\n",
    "# Width of gradient vertically\n",
    "dh=200#75"
   ]
  },
  {
   "cell_type": "code",
   "execution_count": 10,
   "metadata": {},
   "outputs": [],
   "source": [
    "#Depth location of gradient:\n",
    "H1=75\n",
    "#horizontal location of gradient:\n",
    "L  = (ngrid_y*δy)/2"
   ]
  },
  {
   "cell_type": "code",
   "execution_count": 11,
   "metadata": {},
   "outputs": [],
   "source": [
    "# Function to create gradient\n",
    "horizontal_depend_tanh =  (smooth_tanh(-Zs,dh,-H1) +  (smooth_tanh(Ys,Lf,L)) * smooth_tanh(-Zs,dh,-H1)  + abs( smooth_tanh(-Zs,dh,-H1) -1 ) * 1.5) - 1.5"
   ]
  },
  {
   "cell_type": "code",
   "execution_count": 12,
   "metadata": {},
   "outputs": [],
   "source": [
    "# Function to scale gradient\n",
    "def scale_gradient(gradient, scaling):\n",
    "    gradient   = gamma * (horizontal_depend_tanh) #* (-1 + depth_depend_tanh)\n",
    "    return gradient \n",
    "# Scale gradient by a factor gamma\n",
    "gamma =  1\n",
    "test_grad = scale_gradient(horizontal_depend_tanh,gamma)"
   ]
  },
  {
   "cell_type": "code",
   "execution_count": 13,
   "metadata": {},
   "outputs": [],
   "source": [
    "# Init conditions of ocean state:\n",
    "salt_0 = 33.5 #Salinity\n",
    "\n",
    "ft_s= gsw.t_freezing(salt_0,0,0)\n",
    "temp_0 = np.max(ft_s) + 0.5 #Freezing point"
   ]
  },
  {
   "cell_type": "code",
   "execution_count": 14,
   "metadata": {},
   "outputs": [],
   "source": [
    "init_sal= salt_0 + smooth_tanh(Zs,330,110) + 0.5*(Zs/max_depth)*smooth_tanh(Zs,330,110)\n",
    "init_temp= temp_0 + smooth_tanh(Zs,330,110) - 0.5*(Zs/max_depth)*smooth_tanh(Zs,330,110)"
   ]
  },
  {
   "cell_type": "code",
   "execution_count": 15,
   "metadata": {},
   "outputs": [],
   "source": [
    "def generate_noise(nx,ny,nz,scale,lz):\n",
    "    noise = np.zeros((nz,ny,nx))\n",
    "    noise[0:lz,:,:] = (scale * np.random.rand(1,lz,ny,nx)) - (scale/2)\n",
    "    return noise"
   ]
  },
  {
   "cell_type": "code",
   "execution_count": 17,
   "metadata": {},
   "outputs": [
    {
     "name": "stdout",
     "output_type": "stream",
     "text": [
      "4\n",
      "4\n",
      "4\n"
     ]
    }
   ],
   "source": [
    "scalings = [0,0.5,1]\n",
    "\n",
    "nemo_version=4\n",
    "\n",
    "temp_dict={}\n",
    "salt_dict={}\n",
    "\n",
    "dataset_list = {}\n",
    "\n",
    "for gamma in scalings:\n",
    "    gradient = scale_gradient(horizontal_depend_tanh,gamma)\n",
    "\n",
    "    salt_dict[gamma] = ( - 1 * gradient + init_sal)\n",
    "#     temp_dict[gamma] = ( gradient * temp_0 + init_temp) # Gradient in temperature\n",
    "    temp_dict[gamma] = (init_temp)\n",
    "    \n",
    "    print(nemo_version)\n",
    "    if nemo_version >= 4:\n",
    "        pres = sw.eos80.pres(depth,0)\n",
    "        practical_salt = gsw.conversions.SP_from_SA(salt_dict[gamma],pres[:,None],0,80)\n",
    "        model_temp = gsw.conversions.pt0_from_t(init_sal,temp_dict[gamma],pres[:,None])\n",
    "        model_temp = gsw.conversions.CT_from_pt(init_sal,model_temp)\n",
    "        ρ = gsw.density.rho(practical_salt, model_temp, pres[:,None])\n",
    "        \n",
    "    else:\n",
    "        pres = sw.eos80.pres(depth,0)\n",
    "        practical_salt = gsw.conversions.SP_from_SA(salt_dict[gamma],pres[:,None],0,80)\n",
    "        model_temp = gsw.conversions.pt0_from_t(init_sal,temp_dict[gamma],pres[:,None])\n",
    "        ρ = gsw.density.rho(practical_salt, model_temp, pres[:,None])\n",
    "\n",
    "\n",
    "    noise = generate_noise(ngrid_x,ngrid_y,ngrid_z,0.05,40)\n",
    "    \n",
    "    \n",
    "    ds_tem=np.ones((ngrid_z,ngrid_y,ngrid_x))\n",
    "    ds_sal=np.ones((ngrid_z,ngrid_y,ngrid_x))\n",
    "    ds_dens=np.ones((ngrid_z,ngrid_y,ngrid_x))\n",
    "    \n",
    "    ds_tem_init = ds_tem*model_temp[:,:,None]\n",
    "    ds_sal_init = ds_sal*practical_salt[:,:,None] + noise\n",
    "    ds_dens_init = ds_dens*ρ[:,:,None]\n",
    "    \n",
    "    dsout = xr.Dataset(coords=dict(x=([\"x\"], x),xu=([\"xu\"], x[:-1]+0.5), y=([\"y\"], y),yu=([\"yu\"], y[:-1]+0.5),z=(['z'],depth)))\n",
    "\n",
    "    dsout['votemper'] = (('z','y','x'),ds_tem_init)\n",
    "    dsout['vosaline'] = (('z','y','x'),ds_sal_init)\n",
    "    dsout['vorho']    = (('z','y','x'),ds_dens_init)\n",
    "    \n",
    "    dsout = dsout.expand_dims(time=6)\n",
    "    dsout.assign_coords({'z':depth,'x':x,'y':y})\n",
    "    dataset_list[gamma]=dsout\n",
    "    \n",
    "    dsout.to_netcdf(output_path+'Channel_Oce_pt_noise_pS_1000_5000_grid_freezing_point_75m_lin_strat_depth_6months_magnitude_conserved_contents_no_TEMP_grad_{0}_nemo{1}.nc'.format(gamma,nemo_version),unlimited_dims={'time':True})\n",
    "#     dsout.to_netcdf(output_path+'Channel_Oce_pt_noise_pS_1000_5000_grid_freezing_point_75m_lin_strat_depth_6months_magnitude_conserved_contents_{0}_nemo{1}.nc'.format(gamma,nemo_version),unlimited_dims={'time':True})"
   ]
  },
  {
   "cell_type": "code",
   "execution_count": 18,
   "metadata": {},
   "outputs": [
    {
     "name": "stdout",
     "output_type": "stream",
     "text": [
      "<xarray.DataArray 'votemper' ()> Size: 8B\n",
      "array(0.)\n",
      "Coordinates:\n",
      "    z        float64 8B 0.0\n",
      "<xarray.DataArray 'vosaline' ()> Size: 8B\n",
      "array(0.00103321)\n",
      "Coordinates:\n",
      "    z        float64 8B 0.0\n",
      "<xarray.DataArray 'vorho' ()> Size: 8B\n",
      "array(0.)\n",
      "Coordinates:\n",
      "    z        float64 8B 0.0\n"
     ]
    }
   ],
   "source": [
    "print((dataset_list[0].votemper.isel(time=0,z=0,y=50) - dataset_list[0].votemper.isel(time=0,z=0,y=200)).mean())\n",
    "print((dataset_list[0].vosaline.isel(time=0,z=0,y=50) - dataset_list[0].vosaline.isel(time=0,z=0,y=200)).mean())\n",
    "print((dataset_list[0].vorho.isel(time=0,z=0,y=50) - dataset_list[0].vorho.isel(time=0,z=0,y=200)).mean())"
   ]
  },
  {
   "cell_type": "code",
   "execution_count": 19,
   "metadata": {},
   "outputs": [
    {
     "name": "stdout",
     "output_type": "stream",
     "text": [
      "<xarray.DataArray 'votemper' ()> Size: 8B\n",
      "array(0.)\n",
      "Coordinates:\n",
      "    z        float64 8B 0.0\n",
      "<xarray.DataArray 'vosaline' ()> Size: 8B\n",
      "array(0.49406168)\n",
      "Coordinates:\n",
      "    z        float64 8B 0.0\n",
      "<xarray.DataArray 'vorho' ()> Size: 8B\n",
      "array(0.3978758)\n",
      "Coordinates:\n",
      "    z        float64 8B 0.0\n"
     ]
    }
   ],
   "source": [
    "print((dataset_list[0.5].votemper.isel(time=0,z=0,y=50)-dataset_list[0.5].votemper.isel(time=0,z=0,y=200)).mean())\n",
    "print((dataset_list[0.5].vosaline.isel(time=0,z=0,y=50) - dataset_list[0.5].vosaline.isel(time=0,z=0,y=200)).mean())\n",
    "print((dataset_list[0.5].vorho.isel(time=0,z=0,y=50) - dataset_list[0.5].vorho.isel(time=0,z=0,y=200)).mean())"
   ]
  },
  {
   "cell_type": "code",
   "execution_count": 20,
   "metadata": {},
   "outputs": [
    {
     "name": "stdout",
     "output_type": "stream",
     "text": [
      "<xarray.DataArray 'votemper' ()> Size: 8B\n",
      "array(0.)\n",
      "Coordinates:\n",
      "    z        float64 8B 0.0\n",
      "<xarray.DataArray 'vosaline' ()> Size: 8B\n",
      "array(0.98663562)\n",
      "Coordinates:\n",
      "    z        float64 8B 0.0\n",
      "<xarray.DataArray 'vorho' ()> Size: 8B\n",
      "array(0.79575163)\n",
      "Coordinates:\n",
      "    z        float64 8B 0.0\n"
     ]
    }
   ],
   "source": [
    "print((dataset_list[1].votemper.isel(time=0,z=0,y=50)-dataset_list[1].votemper.isel(time=0,z=0,y=200)).mean())\n",
    "print((dataset_list[1].vosaline.isel(time=0,z=0,y=50) - dataset_list[1].vosaline.isel(time=0,z=0,y=200)).mean())\n",
    "print((dataset_list[1].vorho.isel(time=0,z=0,y=50) - dataset_list[1].vorho.isel(time=0,z=0,y=200)).mean())"
   ]
  },
  {
   "cell_type": "code",
   "execution_count": null,
   "metadata": {},
   "outputs": [],
   "source": []
  }
 ],
 "metadata": {
  "kernelspec": {
   "display_name": "jupyter-lab",
   "language": "python",
   "name": "jupyter-lab"
  },
  "language_info": {
   "codemirror_mode": {
    "name": "ipython",
    "version": 3
   },
   "file_extension": ".py",
   "mimetype": "text/x-python",
   "name": "python",
   "nbconvert_exporter": "python",
   "pygments_lexer": "ipython3",
   "version": "3.10.12"
  }
 },
 "nbformat": 4,
 "nbformat_minor": 4
}
